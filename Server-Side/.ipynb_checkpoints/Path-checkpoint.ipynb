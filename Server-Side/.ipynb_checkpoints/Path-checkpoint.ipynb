{
 "cells": [
  {
   "cell_type": "code",
   "execution_count": null,
   "metadata": {
    "collapsed": true
   },
   "outputs": [],
   "source": [
    "#!/usr/bin/python\n",
    "\n",
    "# Import modules for CGI handling \n",
    "import cgi, cgitb\n",
    "\n",
    "#Import Math modules \n",
    "import math\n",
    "\n",
    "\n",
    "print \"Content-type:text/html\\r\\n\\r\\n\"\n",
    "#print \"<html>\"\n",
    "#print \"<head>\"\n",
    "#print \"<title>Radio - Fourth CGI Program</title>\"\n",
    "#print \"</head>\"\n",
    "#print \"<body>\"\n",
    "\n",
    "\n",
    "ifile = \"/usr/lib/cgi-bin/aprslogs/aprs.log\"\n",
    "\n",
    "def getPath(callsign): \n",
    "        data=[]\n",
    "        path=[]\n",
    "        file = open(ifile, 'r')\n",
    "        lines=file.readlines()\n",
    "        for i in lines: \n",
    "                i=i.split(\",\")\n",
    "                if len(i)>9 and callsign==i[3]==i[4]==i[8]: \n",
    "                        call= i[3]\n",
    "                        lat=i[10]\n",
    "                        lg=i[11]\n",
    "                        alt=i[14]\n",
    "                        if lat != '':\n",
    "                                alt=float(alt)\n",
    "                                lat=float(lat)\n",
    "                                lg =float(lg)*-1\n",
    "                                radlat = math.radians(lat)\n",
    "                                coslat= math.cos(radlat)\n",
    "                                lg= lg*coslat\n",
    "                                data=([call, lat, lg, alt])\n",
    "                                path.append(data)\n",
    "        return(path)\n"
   ]
  },
  {
   "cell_type": "code",
   "execution_count": null,
   "metadata": {
    "collapsed": true
   },
   "outputs": [],
   "source": [
    "def path_IGC(p):\n",
    "        data=[]\n",
    "        for i in p:\n",
    "                lat=i[1]\n",
    "                lg=i[2]\n",
    "                alt=i[3]\n",
    "#######################################################################################\n",
    " ####latitude conversation        \n",
    "                radlat = math.radians(lat)\n",
    "                coslat = math.cos(radlat)\n",
    "                lat = str(lat)\n",
    "                latdegrees =lat[0:2]\n",
    "                latconvdegrees = (float(lat[2:])*60)\n",
    "                latconvdegrees = \"%.2f\" % round(latconvdegrees,2)\n",
    "                latconvdegrees = \"0000\"+str(latconvdegrees)\n",
    "                lat = latdegrees + latconvdegrees[-5:-3] +latconvdegrees[-2:] + \"0N\"\n",
    "########################################################################################\n",
    "####longitude conversation          \n",
    "                convertlg = lg/coslat\n",
    "                lg = str(convertlg)\n",
    "                lgdegrees =\"0\"+(lg[0:2])\n",
    "                lgconvdegrees = (float(lg[2:])*60)\n",
    "                lgconvdegrees = \"0000\" + str(\"%.2f\" % round(lgconvdegrees, 2))\n",
    "                lg = lgdegrees[-3:] + lgconvdegrees[-5:-3] + lgconvdegrees[-2:]+ \"0W\"\n",
    "                alt = round(alt)\n",
    "                alt = \"000\" + str(alt)\n",
    "                alt = alt[-7:-2]\n",
    "                time = \"B000000\"\n",
    "                output= time+lat+lg+\"A\"+alt+alt+'\\n'\n",
    "                data.append(output)\n",
    "        return(data)\n"
   ]
  },
  {
   "cell_type": "code",
   "execution_count": null,
   "metadata": {
    "collapsed": true
   },
   "outputs": [],
   "source": [
    "# Create instance of FieldStorage \n",
    "form = cgi.FieldStorage()\n",
    "\n",
    "if form.getvalue('callsign'):\n",
    "        callsign = form.getvalue('callsign')\n",
    "\tp = getPath(callsign)\n",
    "\tdata= path_IGC(p)\n",
    "    \n",
    "else:\n",
    "\tcallsign = ''\n",
    "\n",
    "\n",
    "for i in data:\n",
    "\tprint i# +\"<br>\"\n",
    "\n",
    "#print \"</body>\"\n",
    "#print \"</html>\"\n",
    "    "
   ]
  }
 ],
 "metadata": {
  "kernelspec": {
   "display_name": "Python 3",
   "language": "python",
   "name": "python3"
  },
  "language_info": {
   "codemirror_mode": {
    "name": "ipython",
    "version": 3
   },
   "file_extension": ".py",
   "mimetype": "text/x-python",
   "name": "python",
   "nbconvert_exporter": "python",
   "pygments_lexer": "ipython3",
   "version": "3.6.3"
  }
 },
 "nbformat": 4,
 "nbformat_minor": 2
}
